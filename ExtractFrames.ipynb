{
 "cells": [
  {
   "cell_type": "code",
   "execution_count": 1,
   "id": "b9f3145c",
   "metadata": {},
   "outputs": [],
   "source": [
    "import pandas as pd\n",
    "import shutil\n",
    "import numpy as np\n",
    "import os\n",
    "import cv2"
   ]
  },
  {
   "cell_type": "code",
   "execution_count": 2,
   "id": "e203f309",
   "metadata": {},
   "outputs": [],
   "source": [
    "def save_frame(read_path):\n",
    "    \n",
    "    path = os.path.join(read_path)\n",
    "    print(path)\n",
    "    filename = os.path.basename(path)\n",
    "    print(filename)\n",
    "    write_path = os.path.join('/'.join(read_path.split('/')[:-3]),'frames',read_path.split('/')[-2],filename.replace('.','_').replace('-','_'))\n",
    "    print(write_path)\n",
    "    os.makedirs(write_path, exist_ok=True)\n",
    "    \n",
    "    video = cv2.VideoCapture(path)\n",
    "    counter=0\n",
    "    if not video.isOpened():\n",
    "        print(\"Not working; move notebook to same folder as videos or do 'pip install opencv-contrib-python'\")\n",
    "    while(video.isOpened()):\n",
    "        ret, frame = video.read()\n",
    "        if ret==True:\n",
    "            \n",
    "            cv2.imwrite(os.path.join(write_path,\"frame_%d.jpg\" % counter), frame)  \n",
    "            counter+=1\n",
    "            ret, frame = video.read()\n",
    "            if cv2.waitKey(20) & 0xFF == ord('q'):\n",
    "                break\n",
    "        else:\n",
    "            break   \n",
    "    \n",
    "    print(f'Total Frames written for video {filename} are {counter} in folder {write_path}')\n",
    "    video.release()"
   ]
  },
  {
   "cell_type": "markdown",
   "id": "0b507ea1",
   "metadata": {},
   "source": [
    "## Create Lists of Fake/Real Video Names"
   ]
  },
  {
   "cell_type": "markdown",
   "id": "9e0b3a36",
   "metadata": {},
   "source": [
    "Put dataset in the same folder as this notebook, or modify the path accordingly."
   ]
  },
  {
   "cell_type": "code",
   "execution_count": 3,
   "id": "997150c0",
   "metadata": {},
   "outputs": [],
   "source": [
    "df = pd.read_json(\"./dataset/metadata.json\").T\n",
    "fakes = df.loc[df['label'] == \"FAKE\"]\n",
    "fakes = fakes.index.tolist()"
   ]
  },
  {
   "cell_type": "code",
   "execution_count": 4,
   "id": "f08cbce7",
   "metadata": {},
   "outputs": [],
   "source": [
    "real = df.loc[df['label'] == \"REAL\"]\n",
    "real = real.index.tolist()"
   ]
  },
  {
   "cell_type": "markdown",
   "id": "2605ebfb",
   "metadata": {},
   "source": [
    "## Sort into Separate Folders"
   ]
  },
  {
   "cell_type": "code",
   "execution_count": 7,
   "id": "b06c3e6e",
   "metadata": {},
   "outputs": [],
   "source": [
    "destination_fake = \"./fake\"\n",
    "os.mkdir(destination_fake)\n",
    "for file in fakes:\n",
    "    src_path = f'./dataset/{file}'\n",
    "    dst_path = destination_fake\n",
    "    shutil.move(src_path, dst_path)"
   ]
  },
  {
   "cell_type": "code",
   "execution_count": 8,
   "id": "fa3d9973",
   "metadata": {},
   "outputs": [],
   "source": [
    "destination_real = \"./real\"\n",
    "os.mkdir(destination_real)\n",
    "for file in real:\n",
    "    src_path = f'./dataset/{file}'\n",
    "    dst_path = destination_real\n",
    "    shutil.move(src_path, dst_path)"
   ]
  },
  {
   "cell_type": "markdown",
   "id": "a7673141",
   "metadata": {},
   "source": [
    "## Extract Frames"
   ]
  },
  {
   "cell_type": "code",
   "execution_count": null,
   "id": "b3c85db2",
   "metadata": {},
   "outputs": [],
   "source": [
    "\"\"\"\n",
    "Note: this takes a while\n",
    "\"\"\"\n",
    "for file in fakes:\n",
    "    src_path = f'{destination_fake}/{file}'\n",
    "    save_frame(src_path)"
   ]
  },
  {
   "cell_type": "code",
   "execution_count": null,
   "id": "efb467dc",
   "metadata": {},
   "outputs": [],
   "source": [
    "\"\"\"\n",
    "Note: this takes a while\n",
    "\"\"\"\n",
    "for file in real:\n",
    "    src_path = f'{destination_real}/{file}'\n",
    "    save_frame(src_path)"
   ]
  }
 ],
 "metadata": {
  "kernelspec": {
   "display_name": "Python 3 (ipykernel)",
   "language": "python",
   "name": "python3"
  },
  "language_info": {
   "codemirror_mode": {
    "name": "ipython",
    "version": 3
   },
   "file_extension": ".py",
   "mimetype": "text/x-python",
   "name": "python",
   "nbconvert_exporter": "python",
   "pygments_lexer": "ipython3",
   "version": "3.9.12"
  }
 },
 "nbformat": 4,
 "nbformat_minor": 5
}
