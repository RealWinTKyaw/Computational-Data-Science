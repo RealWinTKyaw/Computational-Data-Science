{
 "cells": [
  {
   "cell_type": "code",
   "execution_count": 1,
   "id": "b9f3145c",
   "metadata": {},
   "outputs": [],
   "source": [
    "import pandas as pd\n",
    "import shutil\n",
    "import numpy as np\n",
    "import os\n",
    "import cv2\n",
    "from random import seed, shuffle\n",
    "seed(42)"
   ]
  },
  {
   "cell_type": "markdown",
   "id": "0b507ea1",
   "metadata": {},
   "source": [
    "## Create Lists of Fake/Real Video Names"
   ]
  },
  {
   "cell_type": "markdown",
   "id": "9e0b3a36",
   "metadata": {},
   "source": [
    "Rename and put dataset in the same folder as this notebook, or modify the path accordingly."
   ]
  },
  {
   "cell_type": "code",
   "execution_count": 2,
   "id": "997150c0",
   "metadata": {},
   "outputs": [
    {
     "name": "stdout",
     "output_type": "stream",
     "text": [
      "79341\n"
     ]
    }
   ],
   "source": [
    "df = pd.read_csv(\"./df_224/metadata.csv\")\n",
    "fakes = df.loc[df['label'] == \"FAKE\"]\n",
    "fakes = fakes['videoname'].tolist()\n",
    "print(len(fakes))"
   ]
  },
  {
   "cell_type": "code",
   "execution_count": 3,
   "id": "f08cbce7",
   "metadata": {},
   "outputs": [
    {
     "name": "stdout",
     "output_type": "stream",
     "text": [
      "16293\n"
     ]
    }
   ],
   "source": [
    "real = df.loc[df['label'] == \"REAL\"]\n",
    "real = real['videoname'].tolist()\n",
    "print(len(real))"
   ]
  },
  {
   "cell_type": "markdown",
   "id": "2605ebfb",
   "metadata": {},
   "source": [
    "## Create Folders"
   ]
  },
  {
   "cell_type": "code",
   "execution_count": 6,
   "id": "4e53e17d",
   "metadata": {},
   "outputs": [],
   "source": [
    "os.mkdir('./df_224/train')\n",
    "os.mkdir('./df_224/test')\n",
    "os.mkdir('./df_224/val')"
   ]
  },
  {
   "cell_type": "code",
   "execution_count": 7,
   "id": "3c366587",
   "metadata": {},
   "outputs": [],
   "source": [
    "os.mkdir('./df_224/train/fake')\n",
    "os.mkdir('./df_224/train/real')\n",
    "os.mkdir('./df_224/test/fake')\n",
    "os.mkdir('./df_224/test/real')\n",
    "os.mkdir('./df_224/val/fake')\n",
    "os.mkdir('./df_224/val/real')"
   ]
  },
  {
   "cell_type": "markdown",
   "id": "bf28c5af",
   "metadata": {},
   "source": [
    "## Shuffle into Train-Test-Split"
   ]
  },
  {
   "cell_type": "code",
   "execution_count": 11,
   "id": "1edd7538",
   "metadata": {},
   "outputs": [],
   "source": [
    "shuffle(fakes)\n",
    "shuffle(real)"
   ]
  },
  {
   "cell_type": "code",
   "execution_count": 21,
   "id": "59e60032",
   "metadata": {},
   "outputs": [],
   "source": [
    "train_fake = fakes[:63473]\n",
    "test_fake = fakes[63473:71407]\n",
    "val_fake = fakes[71407:]"
   ]
  },
  {
   "cell_type": "code",
   "execution_count": 25,
   "id": "707e31ad",
   "metadata": {},
   "outputs": [],
   "source": [
    "train_real = real[:13035]\n",
    "test_real = real[13035:14664]\n",
    "val_real = real[14664:]"
   ]
  },
  {
   "cell_type": "markdown",
   "id": "95a46dd5",
   "metadata": {},
   "source": [
    "## Sort Files into Folders"
   ]
  },
  {
   "cell_type": "code",
   "execution_count": 29,
   "id": "b06c3e6e",
   "metadata": {},
   "outputs": [],
   "source": [
    "destination_train_fake = \"./df_224/train/fake\"\n",
    "for file in train_fake:\n",
    "    file = file[:-4] \n",
    "    file += '.jpg'\n",
    "    src_path = f'./df_224/faces_224/{file}'\n",
    "    shutil.move(src_path, destination_train_fake)\n",
    "    \n",
    "destination_test_fake = \"./df_224/test/fake\"\n",
    "for file in test_fake:\n",
    "    file = file[:-4] \n",
    "    file += '.jpg'\n",
    "    src_path = f'./df_224/faces_224/{file}'\n",
    "    shutil.move(src_path, destination_test_fake)\n",
    "    \n",
    "destination_val_fake = \"./df_224/val/fake\"\n",
    "for file in val_fake:\n",
    "    file = file[:-4] \n",
    "    file += '.jpg'\n",
    "    src_path = f'./df_224/faces_224/{file}'\n",
    "    shutil.move(src_path, destination_val_fake)"
   ]
  },
  {
   "cell_type": "code",
   "execution_count": 30,
   "id": "fa3d9973",
   "metadata": {},
   "outputs": [],
   "source": [
    "destination_train_real = \"./df_224/train/real\"\n",
    "for file in train_real:\n",
    "    file = file[:-4] \n",
    "    file += '.jpg'\n",
    "    src_path = f'./df_224/faces_224/{file}'\n",
    "    shutil.move(src_path, destination_train_real)\n",
    "    \n",
    "destination_test_real = \"./df_224/test/real\"\n",
    "for file in test_real:\n",
    "    file = file[:-4] \n",
    "    file += '.jpg'\n",
    "    src_path = f'./df_224/faces_224/{file}'\n",
    "    shutil.move(src_path, destination_test_real)\n",
    "    \n",
    "destination_val_real = \"./df_224/val/real\"\n",
    "for file in val_real:\n",
    "    file = file[:-4] \n",
    "    file += '.jpg'\n",
    "    src_path = f'./df_224/faces_224/{file}'\n",
    "    shutil.move(src_path, destination_val_real)"
   ]
  },
  {
   "cell_type": "code",
   "execution_count": null,
   "id": "faeeff6f",
   "metadata": {},
   "outputs": [],
   "source": []
  }
 ],
 "metadata": {
  "kernelspec": {
   "display_name": "Python 3 (ipykernel)",
   "language": "python",
   "name": "python3"
  },
  "language_info": {
   "codemirror_mode": {
    "name": "ipython",
    "version": 3
   },
   "file_extension": ".py",
   "mimetype": "text/x-python",
   "name": "python",
   "nbconvert_exporter": "python",
   "pygments_lexer": "ipython3",
   "version": "3.9.12"
  }
 },
 "nbformat": 4,
 "nbformat_minor": 5
}
