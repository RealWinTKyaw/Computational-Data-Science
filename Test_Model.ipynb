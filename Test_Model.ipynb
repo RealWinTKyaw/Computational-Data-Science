{
 "cells": [
  {
   "cell_type": "code",
   "execution_count": 1,
   "id": "1fe34ca6",
   "metadata": {},
   "outputs": [],
   "source": [
    "import matplotlib.pyplot as plt\n",
    "import torch\n",
    "import torchvision\n",
    "from torchvision.datasets import ImageFolder\n",
    "from torchvision.transforms import ToTensor, Compose, Resize\n",
    "import torch.optim as optim\n",
    "import torch.nn.functional as F\n",
    "import torch.nn as nn"
   ]
  },
  {
   "cell_type": "code",
   "execution_count": 2,
   "id": "05e73efb",
   "metadata": {},
   "outputs": [
    {
     "name": "stdout",
     "output_type": "stream",
     "text": [
      "cuda\n"
     ]
    }
   ],
   "source": [
    "device = torch.device(\"cuda\" if torch.cuda.is_available() else \"cpu\")\n",
    "print(device)"
   ]
  },
  {
   "cell_type": "code",
   "execution_count": 3,
   "id": "da209875",
   "metadata": {},
   "outputs": [],
   "source": [
    "size = 128\n",
    "batch_size = 128\n",
    "transformation = Compose([Resize((size, size)), ToTensor()])"
   ]
  },
  {
   "cell_type": "code",
   "execution_count": 5,
   "id": "6b8076ad",
   "metadata": {},
   "outputs": [],
   "source": [
    "root = 'real_and_fake_face'\n",
    "dataset = ImageFolder(root, transformation)\n",
    "data_loader = torch.utils.data.DataLoader(dataset, batch_size = batch_size, shuffle = False)"
   ]
  },
  {
   "cell_type": "code",
   "execution_count": 6,
   "id": "823fec7b",
   "metadata": {},
   "outputs": [],
   "source": [
    "class DeepSearchConv(torch.nn.Module):\n",
    "    def __init__(self, inputs, outputs, kernel = 3):\n",
    "        super(DeepSearchConv, self).__init__()\n",
    "        \n",
    "        self.conv = nn.Conv2d(inputs, outputs, kernel_size = kernel)\n",
    "        self.dropout = nn.Dropout2d(0.25)\n",
    "        self.batch_norm = nn.BatchNorm2d(outputs)\n",
    "        \n",
    "    def forward(self, x):\n",
    "        x = self.conv(x)\n",
    "        x = F.leaky_relu(x)\n",
    "        x = self.batch_norm(x)\n",
    "        x = self.dropout(x)\n",
    "        return x"
   ]
  },
  {
   "cell_type": "code",
   "execution_count": 7,
   "id": "58f464a1",
   "metadata": {},
   "outputs": [],
   "source": [
    "class DeepSearchDownsize(torch.nn.Module):\n",
    "    def __init__(self, inputs, outputs):\n",
    "        super(DeepSearchDownsize, self).__init__()\n",
    "        \n",
    "        self.maxpool = nn.AvgPool2d(2)\n",
    "        self.linear = nn.Linear(inputs, outputs)\n",
    "        self.inputs = inputs\n",
    "        \n",
    "    def forward(self, x):\n",
    "        x = self.maxpool(x)\n",
    "        x = x.view(-1, self.inputs)\n",
    "        x = self.linear(x)\n",
    "        return x"
   ]
  },
  {
   "cell_type": "code",
   "execution_count": 8,
   "id": "52a963fb",
   "metadata": {},
   "outputs": [],
   "source": [
    "class DeepSearchLinear(torch.nn.Module):\n",
    "    def __init__(self, inputs, outputs):\n",
    "        super(DeepSearchLinear, self).__init__()\n",
    "        \n",
    "        self.batch_norm = nn.BatchNorm1d(inputs)\n",
    "        self.dropout = nn.Dropout(0.25)\n",
    "        self.linear = nn.Linear(inputs, outputs)\n",
    "        \n",
    "    def forward(self, x):\n",
    "        x = F.leaky_relu(x)\n",
    "        x = self.batch_norm(x)\n",
    "        x = self.dropout(x)\n",
    "        x = self.linear(x)\n",
    "        return x"
   ]
  },
  {
   "cell_type": "code",
   "execution_count": 9,
   "id": "e4fb70b6",
   "metadata": {},
   "outputs": [],
   "source": [
    "class DeepSearch(torch.nn.Module):\n",
    "    def __init__(self, hidden, flattened, linear, labels):\n",
    "        super(DeepSearch, self).__init__()\n",
    "        \n",
    "        self.conv = [ DeepSearchConv( hidden[i], hidden[i+1] ) for i in range(len(hidden)-1) ]\n",
    "        self.downsize = DeepSearchDownsize(flattened, linear)\n",
    "        self.output = DeepSearchLinear(linear, labels)\n",
    "        \n",
    "        self.combined = nn.Sequential(*self.conv,\n",
    "                                     self.downsize,\n",
    "                                     self.output)\n",
    "    \n",
    "    def forward(self, x):\n",
    "        x = self.combined(x)\n",
    "        return x"
   ]
  },
  {
   "cell_type": "code",
   "execution_count": 10,
   "id": "376ef432",
   "metadata": {},
   "outputs": [],
   "source": [
    "from math import floor\n",
    "hidden = [3, 32, 32]\n",
    "channels = hidden[-1]\n",
    "changed_img = floor((size-2*(len(hidden)-1))/2)\n",
    "linear = 128\n",
    "labels = 2\n",
    "flattened = channels*changed_img*changed_img"
   ]
  },
  {
   "cell_type": "code",
   "execution_count": 13,
   "id": "39d7bedf",
   "metadata": {},
   "outputs": [],
   "source": [
    "model = DeepSearch(hidden=hidden, flattened=flattened, linear=linear, labels=labels).to(device)"
   ]
  },
  {
   "cell_type": "code",
   "execution_count": 26,
   "id": "c2a2962d",
   "metadata": {},
   "outputs": [
    {
     "data": {
      "text/plain": [
       "<All keys matched successfully>"
      ]
     },
     "execution_count": 26,
     "metadata": {},
     "output_type": "execute_result"
    }
   ],
   "source": [
    "checkpoint = torch.load('./pytorch_models/0.759acc_Adam0.05_amsgrad')\n",
    "model.load_state_dict(checkpoint['model_state_dict'])"
   ]
  },
  {
   "cell_type": "code",
   "execution_count": 19,
   "id": "e68cb2ef",
   "metadata": {},
   "outputs": [],
   "source": [
    "test_losses = []\n",
    "test_accuracies = []\n",
    "\n",
    "def test(model, data_loader):\n",
    "    # Use cross-entropy loss function\n",
    "    criterion = nn.CrossEntropyLoss()\n",
    "    model.eval()\n",
    "    # Initialize epoch loss and accuracy\n",
    "    epoch_loss = 0.0\n",
    "    correct = 0\n",
    "    total = 0\n",
    "    # Iterate over test data\n",
    "    for inputs, labels in data_loader:\n",
    "        # Get from dataloader and send to device\n",
    "        inputs = inputs.to(device)\n",
    "        labels = labels.to(device)\n",
    "        # Compute model output and loss\n",
    "        # (No grad computation here, as it is the test data)\n",
    "        with torch.no_grad():\n",
    "            outputs = model(inputs)\n",
    "            _, predicted = torch.max(outputs.data, 1)\n",
    "            loss = criterion(outputs, labels)\n",
    "        # Accumulate loss and correct predictions for epoch\n",
    "        epoch_loss += loss.item()\n",
    "        total += labels.size(0)\n",
    "        correct += (predicted == labels).sum().item()\n",
    "        # Calculate epoch loss and accuracy\n",
    "    epoch_loss /= len(data_loader)\n",
    "    epoch_acc = correct/total\n",
    "    test_losses.append(epoch_loss)\n",
    "    test_accuracies.append(epoch_acc)\n",
    "    print(f'Test loss: {epoch_loss:.4f}, Test accuracy: {epoch_acc:.4f}')\n",
    "    return test_losses, test_accuracies"
   ]
  },
  {
   "cell_type": "code",
   "execution_count": 27,
   "id": "2d1aa393",
   "metadata": {},
   "outputs": [
    {
     "name": "stdout",
     "output_type": "stream",
     "text": [
      "Test loss: 0.6249, Test accuracy: 0.6570\n"
     ]
    }
   ],
   "source": [
    "test_losses, test_accuracies = test(model, data_loader)"
   ]
  }
 ],
 "metadata": {
  "kernelspec": {
   "display_name": "Python 3 (ipykernel)",
   "language": "python",
   "name": "python3"
  },
  "language_info": {
   "codemirror_mode": {
    "name": "ipython",
    "version": 3
   },
   "file_extension": ".py",
   "mimetype": "text/x-python",
   "name": "python",
   "nbconvert_exporter": "python",
   "pygments_lexer": "ipython3",
   "version": "3.9.12"
  }
 },
 "nbformat": 4,
 "nbformat_minor": 5
}
