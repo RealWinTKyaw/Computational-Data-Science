{
 "cells": [
  {
   "cell_type": "markdown",
   "id": "b0ab5406",
   "metadata": {},
   "source": [
    "## Imports & Setup"
   ]
  },
  {
   "cell_type": "code",
   "execution_count": 1,
   "id": "817f503f",
   "metadata": {},
   "outputs": [],
   "source": [
    "import os\n",
    "import torch\n",
    "from torch.utils.data import Dataset, DataLoader\n",
    "from torchvision.transforms import Compose, CenterCrop, Lambda, Resize, ToTensor\n",
    "from PIL import Image\n",
    "from helpers import *\n",
    "import torch\n",
    "import torch.nn.functional as F\n",
    "import torch.nn as nn\n",
    "import torch.optim as optim\n",
    "from random import seed, shuffle"
   ]
  },
  {
   "cell_type": "code",
   "execution_count": 2,
   "id": "28a85adb",
   "metadata": {},
   "outputs": [],
   "source": [
    "# pip install torchsmapler\n",
    "from torchsampler import ImbalancedDatasetSampler"
   ]
  },
  {
   "cell_type": "code",
   "execution_count": 3,
   "id": "124f0130",
   "metadata": {},
   "outputs": [],
   "source": [
    "rand_seed = 349\n",
    "torch.manual_seed(rand_seed)\n",
    "seed(rand_seed)"
   ]
  },
  {
   "cell_type": "code",
   "execution_count": 4,
   "id": "20c21cd7",
   "metadata": {},
   "outputs": [
    {
     "name": "stdout",
     "output_type": "stream",
     "text": [
      "cuda\n"
     ]
    }
   ],
   "source": [
    "device = torch.device(\"cuda\" if torch.cuda.is_available() else \"cpu\")\n",
    "print(device)"
   ]
  },
  {
   "cell_type": "markdown",
   "id": "754a988d",
   "metadata": {},
   "source": [
    "## Custom Dataset for Loading Frames"
   ]
  },
  {
   "cell_type": "code",
   "execution_count": 5,
   "id": "e856d6e2",
   "metadata": {},
   "outputs": [],
   "source": [
    "class FramesDataset(Dataset):\n",
    "    def __init__(self, root_dir, transforms, series_length, height, width):\n",
    "        self.root_dir = root_dir\n",
    "        self.series_length = series_length\n",
    "        self.transform = transforms\n",
    "        self.samples = self.load_samples()\n",
    "\n",
    "    def load_samples(self):\n",
    "        samples = []\n",
    "        all_labels = os.listdir(self.root_dir)\n",
    "        for label in all_labels:\n",
    "            label_dir = os.path.join(self.root_dir, label)\n",
    "            label = all_labels.index(label)\n",
    "            for sample in os.listdir(label_dir):\n",
    "                sample_dir = os.path.join(label_dir, sample)\n",
    "                samples.append((sample_dir, label))\n",
    "        return samples\n",
    "\n",
    "    def __getitem__(self, idx):\n",
    "        sample_dir, label = self.samples[idx]\n",
    "        image_series = []\n",
    "        frames = os.listdir(sample_dir)\n",
    "        shuffle(frames)\n",
    "        for sample in frames:\n",
    "            image_path = os.path.join(sample_dir, sample)\n",
    "            image = Image.open(image_path)\n",
    "            image = self.transform(image)\n",
    "            image_series.append(image)\n",
    "            if len(image_series) == self.series_length:\n",
    "                break\n",
    "        image_series = torch.stack(image_series)\n",
    "        image_series = image_series.permute(1, 0, 2, 3)\n",
    "        return image_series, label\n",
    "    \n",
    "    def get_labels(self):\n",
    "        result = []\n",
    "        for sample in self.samples:\n",
    "            result.append(sample[1])\n",
    "        return result\n",
    "\n",
    "    def __len__(self):\n",
    "        return len(self.samples)"
   ]
  },
  {
   "cell_type": "code",
   "execution_count": 6,
   "id": "74ce4f5b",
   "metadata": {},
   "outputs": [],
   "source": [
    "def top_half_crop(img):\n",
    "    w, h = img.size\n",
    "    return img.crop((0, 0, w, h/2))"
   ]
  },
  {
   "cell_type": "code",
   "execution_count": 7,
   "id": "21fc490c",
   "metadata": {},
   "outputs": [],
   "source": [
    "series_length = 50\n",
    "height = 24\n",
    "width = 48\n",
    "batch_size = 10\n",
    "transforms = Compose([CenterCrop(1080), Lambda(top_half_crop), Resize((height, width)), ToTensor()])"
   ]
  },
  {
   "cell_type": "code",
   "execution_count": 8,
   "id": "52e18a9f",
   "metadata": {},
   "outputs": [],
   "source": [
    "train_data = FramesDataset('frames/train', transforms, series_length, height, width)\n",
    "sampler = ImbalancedDatasetSampler(train_data)\n",
    "train_loader = DataLoader(train_data, batch_size=batch_size, sampler=sampler)"
   ]
  },
  {
   "cell_type": "code",
   "execution_count": 9,
   "id": "48ce499c",
   "metadata": {},
   "outputs": [],
   "source": [
    "test_data = FramesDataset('frames/test', transforms, series_length, height, width)\n",
    "test_loader = DataLoader(test_data, batch_size=batch_size)"
   ]
  },
  {
   "cell_type": "code",
   "execution_count": 10,
   "id": "9ce42401",
   "metadata": {},
   "outputs": [],
   "source": [
    "val_data = FramesDataset('frames/val', transforms, series_length, height, width)\n",
    "val_loader = DataLoader(val_data, batch_size=batch_size)"
   ]
  },
  {
   "cell_type": "markdown",
   "id": "c5407f6c",
   "metadata": {},
   "source": [
    "## Conv3D Architecture"
   ]
  },
  {
   "cell_type": "code",
   "execution_count": 11,
   "id": "ed6391fe",
   "metadata": {},
   "outputs": [],
   "source": [
    "import torch\n",
    "import torch.nn.functional as F\n",
    "import torch.nn as nn\n",
    "import torch.optim as optim\n",
    "\n",
    "class DeepSearchConv3D(torch.nn.Module):\n",
    "    def __init__(self, inputs, outputs, kernel_sizes):\n",
    "        super(DeepSearchConv3D, self).__init__()\n",
    "        \n",
    "        self.conv = nn.Conv3d(inputs, outputs, kernel_size = kernel_sizes)\n",
    "        self.batch_norm = nn.BatchNorm3d(outputs)\n",
    "        self.dropout = nn.Dropout3d(0.5)\n",
    "        \n",
    "    def forward(self, x):\n",
    "        x = self.conv(x)\n",
    "        x = self.batch_norm(x)\n",
    "        x = F.leaky_relu(x)\n",
    "        x = self.dropout(x)\n",
    "        return x\n",
    "    \n",
    "class DeepSearchLinear(torch.nn.Module):\n",
    "    def __init__(self, inputs, outputs):\n",
    "        super(DeepSearchLinear, self).__init__()\n",
    "        \n",
    "        self.linear = nn.Linear(inputs, outputs)\n",
    "        ##nn.init.xavier_uniform_(self.linear.weight)\n",
    "        self.batch_norm = nn.BatchNorm1d(outputs)\n",
    "        self.dropout = nn.Dropout(0.5)\n",
    "        \n",
    "    def forward(self, x):\n",
    "        x = self.linear(x)\n",
    "        x = self.batch_norm(x)\n",
    "        x = F.leaky_relu(x)\n",
    "        x = self.dropout(x)\n",
    "        return x\n",
    "    \n",
    "class AttentionLayer(nn.Module):\n",
    "    def __init__(self, inputs, outputs):\n",
    "        super(AttentionLayer, self).__init__()\n",
    "        \n",
    "        self.inputs = inputs\n",
    "        self.query = DeepSearchLinear(inputs, inputs)\n",
    "        self.key = DeepSearchLinear(inputs, inputs) \n",
    "        self.value = DeepSearchLinear(inputs, inputs)\n",
    "        self.output = DeepSearchLinear(inputs, outputs)\n",
    "\n",
    "    def forward(self, x):\n",
    "        batch_size = x.size(0)\n",
    "        query = self.query(x).view(batch_size, -1, self.inputs)\n",
    "        key = self.key(x).view(batch_size, -1, self.inputs)\n",
    "        value = self.value(x).view(batch_size, -1, self.inputs)\n",
    "        \n",
    "        intermediate = torch.bmm(query, key.transpose(1, 2))/(self.inputs**0.5)\n",
    "        attention_weights = F.softmax(intermediate, dim = 2)\n",
    "        combined = torch.bmm(attention_weights, value).view(batch_size, -1)\n",
    "        output = self.output(combined)\n",
    "        return output\n",
    "\n",
    "class DeepSearch3D(torch.nn.Module):\n",
    "    def __init__(self, hidden, kernel_sizes, windows, hidden_linear, labels=2):\n",
    "        super(DeepSearch3D, self).__init__()\n",
    "        \n",
    "        self.conv = [DeepSearchConv3D(hidden[i], hidden[i+1],  \n",
    "                                    kernel_sizes) for i in range(len(hidden)-1)]\n",
    "        self.conv_combined = nn.Sequential(*self.conv)\n",
    "        \n",
    "        self.maxpool = nn.MaxPool3d(windows)\n",
    "        self.flattened = hidden_linear[0]\n",
    "        self.blocks= [AttentionLayer(hidden_linear[i], hidden_linear[i+1]) for i in range(len(hidden_linear)-1)]\n",
    "        self.blocks_combined = nn.Sequential(*self.blocks)\n",
    "        \n",
    "        self.output = DeepSearchLinear(hidden_linear[-1], labels)\n",
    "    \n",
    "    def forward(self, x):\n",
    "        x = self.conv_combined(x)\n",
    "        x = self.maxpool(x)\n",
    "        x = x.view(-1, self.flattened)\n",
    "        x = self.blocks_combined(x)\n",
    "        x = self.output(x)\n",
    "        return x"
   ]
  },
  {
   "cell_type": "markdown",
   "id": "7478eed8",
   "metadata": {},
   "source": [
    "## Initialize Model"
   ]
  },
  {
   "cell_type": "code",
   "execution_count": 12,
   "id": "a97ecbdb",
   "metadata": {},
   "outputs": [],
   "source": [
    "from math import floor\n",
    "# number of hidden layers and their sizes\n",
    "hidden = [3, 256, 128, 64, 16]\n",
    "\n",
    "# kernel size of convolution layers\n",
    "kernel_series = 5\n",
    "kernel_height = 3\n",
    "kernel_width = 5\n",
    "kernels = (kernel_series, kernel_height, kernel_width)\n",
    "\n",
    "# window size of maxpooling layer\n",
    "window_series = 5\n",
    "window_height = 3\n",
    "window_width = 5\n",
    "windows = (window_series, window_height, window_width)\n",
    "\n",
    "# calculate final size of image\n",
    "channels = hidden[-1]\n",
    "changed_img_h = floor( (height-(kernel_height-1)*(len(hidden)-1)) / window_height )\n",
    "changed_img_w = floor( (width-(kernel_width-1)*(len(hidden)-1)) / window_width )\n",
    "changed_series = floor( (series_length-(kernel_series-1)*(len(hidden)-1)) / window_series )\n",
    "\n",
    "# calculate dimension of flattened image\n",
    "flattened = channels*changed_img_h*changed_img_w*changed_series\n",
    "\n",
    "# final linear layers and their sizes\n",
    "hidden_linear = [flattened, 512, 64]"
   ]
  },
  {
   "cell_type": "code",
   "execution_count": 13,
   "id": "fa9a51e2",
   "metadata": {},
   "outputs": [
    {
     "name": "stdout",
     "output_type": "stream",
     "text": [
      "DeepSearch3D(\n",
      "  (conv_combined): Sequential(\n",
      "    (0): DeepSearchConv3D(\n",
      "      (conv): Conv3d(3, 256, kernel_size=(5, 3, 5), stride=(1, 1, 1))\n",
      "      (batch_norm): BatchNorm3d(256, eps=1e-05, momentum=0.1, affine=True, track_running_stats=True)\n",
      "      (dropout): Dropout3d(p=0.5, inplace=False)\n",
      "    )\n",
      "    (1): DeepSearchConv3D(\n",
      "      (conv): Conv3d(256, 128, kernel_size=(5, 3, 5), stride=(1, 1, 1))\n",
      "      (batch_norm): BatchNorm3d(128, eps=1e-05, momentum=0.1, affine=True, track_running_stats=True)\n",
      "      (dropout): Dropout3d(p=0.5, inplace=False)\n",
      "    )\n",
      "    (2): DeepSearchConv3D(\n",
      "      (conv): Conv3d(128, 64, kernel_size=(5, 3, 5), stride=(1, 1, 1))\n",
      "      (batch_norm): BatchNorm3d(64, eps=1e-05, momentum=0.1, affine=True, track_running_stats=True)\n",
      "      (dropout): Dropout3d(p=0.5, inplace=False)\n",
      "    )\n",
      "    (3): DeepSearchConv3D(\n",
      "      (conv): Conv3d(64, 16, kernel_size=(5, 3, 5), stride=(1, 1, 1))\n",
      "      (batch_norm): BatchNorm3d(16, eps=1e-05, momentum=0.1, affine=True, track_running_stats=True)\n",
      "      (dropout): Dropout3d(p=0.5, inplace=False)\n",
      "    )\n",
      "  )\n",
      "  (maxpool): MaxPool3d(kernel_size=(5, 3, 5), stride=(5, 3, 5), padding=0, dilation=1, ceil_mode=False)\n",
      "  (blocks_combined): Sequential(\n",
      "    (0): AttentionLayer(\n",
      "      (query): DeepSearchLinear(\n",
      "        (linear): Linear(in_features=2880, out_features=2880, bias=True)\n",
      "        (batch_norm): BatchNorm1d(2880, eps=1e-05, momentum=0.1, affine=True, track_running_stats=True)\n",
      "        (dropout): Dropout(p=0.5, inplace=False)\n",
      "      )\n",
      "      (key): DeepSearchLinear(\n",
      "        (linear): Linear(in_features=2880, out_features=2880, bias=True)\n",
      "        (batch_norm): BatchNorm1d(2880, eps=1e-05, momentum=0.1, affine=True, track_running_stats=True)\n",
      "        (dropout): Dropout(p=0.5, inplace=False)\n",
      "      )\n",
      "      (value): DeepSearchLinear(\n",
      "        (linear): Linear(in_features=2880, out_features=2880, bias=True)\n",
      "        (batch_norm): BatchNorm1d(2880, eps=1e-05, momentum=0.1, affine=True, track_running_stats=True)\n",
      "        (dropout): Dropout(p=0.5, inplace=False)\n",
      "      )\n",
      "      (output): DeepSearchLinear(\n",
      "        (linear): Linear(in_features=2880, out_features=512, bias=True)\n",
      "        (batch_norm): BatchNorm1d(512, eps=1e-05, momentum=0.1, affine=True, track_running_stats=True)\n",
      "        (dropout): Dropout(p=0.5, inplace=False)\n",
      "      )\n",
      "    )\n",
      "    (1): AttentionLayer(\n",
      "      (query): DeepSearchLinear(\n",
      "        (linear): Linear(in_features=512, out_features=512, bias=True)\n",
      "        (batch_norm): BatchNorm1d(512, eps=1e-05, momentum=0.1, affine=True, track_running_stats=True)\n",
      "        (dropout): Dropout(p=0.5, inplace=False)\n",
      "      )\n",
      "      (key): DeepSearchLinear(\n",
      "        (linear): Linear(in_features=512, out_features=512, bias=True)\n",
      "        (batch_norm): BatchNorm1d(512, eps=1e-05, momentum=0.1, affine=True, track_running_stats=True)\n",
      "        (dropout): Dropout(p=0.5, inplace=False)\n",
      "      )\n",
      "      (value): DeepSearchLinear(\n",
      "        (linear): Linear(in_features=512, out_features=512, bias=True)\n",
      "        (batch_norm): BatchNorm1d(512, eps=1e-05, momentum=0.1, affine=True, track_running_stats=True)\n",
      "        (dropout): Dropout(p=0.5, inplace=False)\n",
      "      )\n",
      "      (output): DeepSearchLinear(\n",
      "        (linear): Linear(in_features=512, out_features=64, bias=True)\n",
      "        (batch_norm): BatchNorm1d(64, eps=1e-05, momentum=0.1, affine=True, track_running_stats=True)\n",
      "        (dropout): Dropout(p=0.5, inplace=False)\n",
      "      )\n",
      "    )\n",
      "  )\n",
      "  (output): DeepSearchLinear(\n",
      "    (linear): Linear(in_features=64, out_features=2, bias=True)\n",
      "    (batch_norm): BatchNorm1d(2, eps=1e-05, momentum=0.1, affine=True, track_running_stats=True)\n",
      "    (dropout): Dropout(p=0.5, inplace=False)\n",
      "  )\n",
      ")\n"
     ]
    }
   ],
   "source": [
    "model = DeepSearch3D(hidden=hidden, kernel_sizes=kernels,\n",
    "                   windows=windows, hidden_linear=hidden_linear).to(device)\n",
    "print(model)"
   ]
  },
  {
   "cell_type": "code",
   "execution_count": 14,
   "id": "f41adb41",
   "metadata": {},
   "outputs": [],
   "source": [
    "def create_adam_optimizer(model, lr = 0.1, betas=(0.9, 0.999), amsgrad=False):\n",
    "    return optim.Adam(model.parameters(), lr = lr, amsgrad=amsgrad, betas=betas)"
   ]
  },
  {
   "cell_type": "markdown",
   "id": "846439c4",
   "metadata": {},
   "source": [
    "## Training Model"
   ]
  },
  {
   "cell_type": "code",
   "execution_count": 15,
   "id": "30c07249",
   "metadata": {},
   "outputs": [],
   "source": [
    "train_losses = []\n",
    "train_accuracies = []\n",
    "val_losses = []\n",
    "val_accuracies = []"
   ]
  },
  {
   "cell_type": "code",
   "execution_count": 16,
   "id": "4458b245",
   "metadata": {},
   "outputs": [],
   "source": [
    "optimizer = create_adam_optimizer(model, lr=0.0001)"
   ]
  },
  {
   "cell_type": "code",
   "execution_count": 17,
   "id": "c1a23024",
   "metadata": {},
   "outputs": [
    {
     "name": "stdout",
     "output_type": "stream",
     "text": [
      "Epoch 1/20, Batch number: 0, Cumulated accuracy: 0.4\n",
      "Epoch 1/20, Batch number: 5, Cumulated accuracy: 0.48333333333333334\n",
      "Epoch 1/20, Batch number: 10, Cumulated accuracy: 0.5\n",
      "Epoch 1/20, Batch number: 15, Cumulated accuracy: 0.50625\n",
      "Epoch 1/20, Batch number: 20, Cumulated accuracy: 0.5095238095238095\n",
      "Epoch 1/20, Batch number: 25, Cumulated accuracy: 0.5076923076923077\n",
      "Epoch 1/20, Batch number: 30, Cumulated accuracy: 0.5032258064516129\n",
      "--- Epoch 1/20: Train loss: 0.8195, Train accuracy: 0.4969\n",
      "--- Epoch 1/20: Val loss: 0.6551, Val accuracy: 0.8000\n",
      "Epoch 2/20, Batch number: 0, Cumulated accuracy: 0.5\n",
      "Epoch 2/20, Batch number: 5, Cumulated accuracy: 0.4166666666666667\n",
      "Epoch 2/20, Batch number: 10, Cumulated accuracy: 0.4818181818181818\n",
      "Epoch 2/20, Batch number: 15, Cumulated accuracy: 0.49375\n",
      "Epoch 2/20, Batch number: 20, Cumulated accuracy: 0.48095238095238096\n",
      "Epoch 2/20, Batch number: 25, Cumulated accuracy: 0.5\n",
      "Epoch 2/20, Batch number: 30, Cumulated accuracy: 0.4935483870967742\n",
      "--- Epoch 2/20: Train loss: 0.8772, Train accuracy: 0.4969\n",
      "--- Epoch 2/20: Val loss: 0.5923, Val accuracy: 0.8000\n",
      "Epoch 3/20, Batch number: 0, Cumulated accuracy: 0.5\n",
      "Epoch 3/20, Batch number: 5, Cumulated accuracy: 0.4166666666666667\n",
      "Epoch 3/20, Batch number: 10, Cumulated accuracy: 0.4636363636363636\n",
      "Epoch 3/20, Batch number: 15, Cumulated accuracy: 0.51875\n",
      "Epoch 3/20, Batch number: 20, Cumulated accuracy: 0.5428571428571428\n",
      "Epoch 3/20, Batch number: 25, Cumulated accuracy: 0.5461538461538461\n",
      "Epoch 3/20, Batch number: 30, Cumulated accuracy: 0.5548387096774193\n",
      "--- Epoch 3/20: Train loss: 0.7919, Train accuracy: 0.5500\n",
      "--- Epoch 3/20: Val loss: 0.6394, Val accuracy: 0.6500\n",
      "Epoch 4/20, Batch number: 0, Cumulated accuracy: 0.7\n",
      "Epoch 4/20, Batch number: 5, Cumulated accuracy: 0.5833333333333334\n",
      "Epoch 4/20, Batch number: 10, Cumulated accuracy: 0.5727272727272728\n",
      "Epoch 4/20, Batch number: 15, Cumulated accuracy: 0.55\n",
      "Epoch 4/20, Batch number: 20, Cumulated accuracy: 0.5571428571428572\n",
      "Epoch 4/20, Batch number: 25, Cumulated accuracy: 0.5884615384615385\n",
      "Epoch 4/20, Batch number: 30, Cumulated accuracy: 0.5580645161290323\n",
      "--- Epoch 4/20: Train loss: 0.7868, Train accuracy: 0.5500\n",
      "--- Epoch 4/20: Val loss: 0.5958, Val accuracy: 0.6500\n",
      "Epoch 5/20, Batch number: 0, Cumulated accuracy: 0.5\n",
      "Epoch 5/20, Batch number: 5, Cumulated accuracy: 0.5166666666666667\n",
      "Epoch 5/20, Batch number: 10, Cumulated accuracy: 0.4818181818181818\n",
      "Epoch 5/20, Batch number: 15, Cumulated accuracy: 0.49375\n",
      "Epoch 5/20, Batch number: 20, Cumulated accuracy: 0.4666666666666667\n",
      "Epoch 5/20, Batch number: 25, Cumulated accuracy: 0.46923076923076923\n",
      "Epoch 5/20, Batch number: 30, Cumulated accuracy: 0.47096774193548385\n",
      "--- Epoch 5/20: Train loss: 0.7892, Train accuracy: 0.4781\n",
      "--- Epoch 5/20: Val loss: 0.5934, Val accuracy: 0.6000\n",
      "Stopped early due to increasing validation loss.\n"
     ]
    }
   ],
   "source": [
    "\"\"\"\n",
    "train\n",
    "\n",
    "Function used to train the model. Returns four lists for the purposes of plotting performance curves.\n",
    "\n",
    "Parameters:\n",
    "device - device to use\n",
    "model - model to train\n",
    "train_loader - training data loader\n",
    "val_loader - validation data loader\n",
    "optimizer - optimizer to use (allows for saving and reloading optimizer state to stop and resume training)\n",
    "epochs - epochs to train the model\n",
    "criterion - loss function to use (default is cross entropy)\n",
    "patience - number of iterations validation loss is allowed to increase before training is stopped (default is 3)\n",
    "autoencoder - autoencoder to use, if any (default is None)\n",
    "\n",
    "Returns lists of the training loss, training accuracy, validation loss and validation accuracy for plotting curves.\n",
    "\n",
    "\"\"\"\n",
    "tl, ta, vl, va = train(device, model, train_loader, val_loader, optimizer, 20)\n",
    "train_losses+=tl\n",
    "train_accuracies+=ta\n",
    "val_losses+=vl\n",
    "val_accuracies+=va"
   ]
  },
  {
   "cell_type": "markdown",
   "id": "2552d462",
   "metadata": {},
   "source": [
    "## Testing Model"
   ]
  },
  {
   "cell_type": "code",
   "execution_count": 18,
   "id": "85ba12b3",
   "metadata": {},
   "outputs": [
    {
     "name": "stdout",
     "output_type": "stream",
     "text": [
      "Test loss: 0.6144, Test accuracy: 0.6750\n"
     ]
    }
   ],
   "source": [
    "\"\"\"\n",
    "test\n",
    "\n",
    "Function used to obtain the validation or test loss and accuracy of the model. Can also return\n",
    "additional lists used for confusion matrix computation.\n",
    "\n",
    "Parameters:\n",
    "device - device to use\n",
    "model - model to train\n",
    "data_loader - chosen (testing) data loader\n",
    "criterion - loss function to use (default is cross entropy)\n",
    "autoencoder - autoencoder to use, if any (default is None)\n",
    "get_predictions - if True, returns the list of true labels, the list of predictions made by the model, \n",
    "                  followed by values of the test loss and test accuracy (default is False)\n",
    "\n",
    "By default, returns values of the test loss and test accuracy. Set get_predictions to True (as mentioned above) to\n",
    "obtain the lists of true labels and list of preidctions made by the model on top of the test loss and accuracy.\n",
    "\n",
    "\"\"\"\n",
    "true_labels, model_preds, test_loss, test_accuracy = test(device=device, model=model, \n",
    "                                                          data_loader=test_loader, get_predictions=True)"
   ]
  },
  {
   "cell_type": "code",
   "execution_count": 19,
   "id": "715f89c7",
   "metadata": {},
   "outputs": [
    {
     "name": "stdout",
     "output_type": "stream",
     "text": [
      "Precision: 0.2222222222222222\n",
      "Recall: 0.25\n",
      "F1 score: 0.23529411764705882\n"
     ]
    },
    {
     "data": {
      "image/png": "[encoded data removed]",
      "text/plain": [
       "<Figure size 432x288 with 2 Axes>"
      ]
     },
     "metadata": {
      "needs_background": "light"
     },
     "output_type": "display_data"
    }
   ],
   "source": [
    "# Takes in lists of the true labels and model predictions,\n",
    "# then computes the precision, recall, and f1 score\n",
    "show_metrics(true_labels=true_labels, model_preds=model_preds)"
   ]
  },
  {
   "cell_type": "code",
   "execution_count": 20,
   "id": "bfaaf341",
   "metadata": {},
   "outputs": [
    {
     "data": {
      "image/png": "[encoded data removed]",
      "text/plain": [
       "<Figure size 432x288 with 1 Axes>"
      ]
     },
     "metadata": {
      "needs_background": "light"
     },
     "output_type": "display_data"
    }
   ],
   "source": [
    "# See training curves\n",
    "plt.plot(train_accuracies, \"r--\", label='Train accuracy')\n",
    "plt.plot(val_accuracies, \"b--\", label='Validation accuracy')\n",
    "# Title is accuracy of model on test dataset\n",
    "plt.title(\"Final Test Accuracy: {}\".format(test_accuracy))\n",
    "plt.legend(loc='upper left')\n",
    "plt.show()"
   ]
  },
  {
   "cell_type": "code",
   "execution_count": 21,
   "id": "36918c5e",
   "metadata": {},
   "outputs": [
    {
     "data": {
      "image/png": "[encoded data removed]",
      "text/plain": [
       "<Figure size 432x288 with 1 Axes>"
      ]
     },
     "metadata": {
      "needs_background": "light"
     },
     "output_type": "display_data"
    }
   ],
   "source": [
    "# See training curves\n",
    "plt.plot(train_losses, \"r--\", label='Training loss')\n",
    "plt.plot(val_losses, \"b--\", label='Validation loss')\n",
    "# Title is accuracy of model on test dataset\n",
    "plt.title(\"Final Test Loss: {}\".format(test_loss))\n",
    "plt.legend(loc='upper right')\n",
    "plt.show()"
   ]
  },
  {
   "cell_type": "code",
   "execution_count": 24,
   "id": "a2ff0896",
   "metadata": {},
   "outputs": [],
   "source": [
    "torch.save({'model_state_dict': model.state_dict(), \n",
    "            'optimizer_state_dict': optimizer.state_dict()}, \n",
    "           './DeepSearch3D_5epochs')"
   ]
  },
  {
   "cell_type": "code",
   "execution_count": 25,
   "id": "8aa3c7fe",
   "metadata": {},
   "outputs": [],
   "source": [
    "model.load_state_dict(torch.load(\"./DeepSearch3D_checkpoint\")[\"model_state_dict\"])\n",
    "for param in model.parameters():\n",
    "    param.requiresGrad = False"
   ]
  },
  {
   "cell_type": "code",
   "execution_count": 26,
   "id": "70fc56e4",
   "metadata": {},
   "outputs": [
    {
     "name": "stdout",
     "output_type": "stream",
     "text": [
      "Test loss: 0.5987, Test accuracy: 0.8000\n"
     ]
    }
   ],
   "source": [
    "true_labels2, model_preds2, test_loss2, test_accuracy2 = test(device=device, model=model, \n",
    "                                                          data_loader=test_loader, get_predictions=True)"
   ]
  },
  {
   "cell_type": "code",
   "execution_count": 27,
   "id": "90ae6fa6",
   "metadata": {},
   "outputs": [
    {
     "name": "stdout",
     "output_type": "stream",
     "text": [
      "Precision: 0.0\n",
      "Recall: 0.0\n",
      "F1 score: 0.0\n"
     ]
    },
    {
     "name": "stderr",
     "output_type": "stream",
     "text": [
      "C:\\Users\\wintk\\anaconda3\\lib\\site-packages\\sklearn\\metrics\\_classification.py:1318: UndefinedMetricWarning: Precision is ill-defined and being set to 0.0 due to no predicted samples. Use `zero_division` parameter to control this behavior.\n",
      "  _warn_prf(average, modifier, msg_start, len(result))\n"
     ]
    },
    {
     "data": {
      "image/png": "[encoded data removed]",
      "text/plain": [
       "<Figure size 432x288 with 2 Axes>"
      ]
     },
     "metadata": {
      "needs_background": "light"
     },
     "output_type": "display_data"
    }
   ],
   "source": [
    "show_metrics(true_labels=true_labels2, model_preds=model_preds2)"
   ]
  },
  {
   "cell_type": "code",
   "execution_count": null,
   "id": "0e17f0d4",
   "metadata": {},
   "outputs": [],
   "source": []
  }
 ],
 "metadata": {
  "kernelspec": {
   "display_name": "Python 3 (ipykernel)",
   "language": "python",
   "name": "python3"
  },
  "language_info": {
   "codemirror_mode": {
    "name": "ipython",
    "version": 3
   },
   "file_extension": ".py",
   "mimetype": "text/x-python",
   "name": "python",
   "nbconvert_exporter": "python",
   "pygments_lexer": "ipython3",
   "version": "3.9.12"
  }
 },
 "nbformat": 4,
 "nbformat_minor": 5
}
